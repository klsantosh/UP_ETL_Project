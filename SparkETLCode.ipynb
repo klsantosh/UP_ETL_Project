{
 "cells": [
  {
   "cell_type": "markdown",
   "id": "84309b63",
   "metadata": {},
   "source": [
    "# SPAR NORD BANK ETL PROCESS AND DATA ANALYSIS"
   ]
  },
  {
   "cell_type": "markdown",
   "id": "7dbcf915",
   "metadata": {},
   "source": [
    "PROBLEM STATEMENT\n",
    "Spar Nord Bank is trying to observe the withdrawal behavior and the corresponding dependent factors to optimally manage the refill frequency. Apart from this, other insights also have to be drawn from the data.\n",
    "\n",
    "The overall task in this project will be to build a batch ETL pipeline to read transactional data from RDS, transform and load it into target dimensions and facts on Redshift Data Mart(Schema).\n",
    "\n",
    "Please note that the source data and target schema details are provided to better understand the source and targets, which would help design the ETL pipeline. Once the data is loaded into Redshift, you would have to write the analytical queries discussed above.\n",
    "\n",
    "We have data from more than 100 ATMs across Denmark. Data is captured for every transaction including, card type, location, date, time, ATM type, etc.\n",
    "\n",
    "Also, the transaction amount field in the data set was added separately using a random function for the analysis purpose.\n",
    "\n",
    "Coming to the analysis part, you will be tasked to carry out the calculations to perform the following analytical queries:\n",
    "\n",
    "Top 10 ATMs where most transactions are in the ’inactive’ state\n",
    "Number of ATM failures corresponding to the different weather conditions recorded at the time of the transactions\n",
    "Top 10 ATMs with the most number of transactions throughout the year\n",
    "Number of overall ATM transactions going inactive per month for each month\n",
    "Top 10 ATMs with the highest total amount withdrawn throughout the year\n",
    "Number of failed ATM transactions across various card types\n",
    "Top 10 records with the number of transactions ordered by the ATM_number, ATM_manufacturer, location, weekend_flag and then total_transaction_count, on weekdays and on weekends throughout the year\n",
    "Most active day in each ATMs from location \"Vejgaard\""
   ]
  },
  {
   "cell_type": "markdown",
   "id": "3a0c419f",
   "metadata": {},
   "source": [
    "CURRENT OBJECTIVE\n",
    "So far we have extracted the data from MySQL database using Apache Sqoop and placed it in HDFS under the path: /user/root/SRC_ATM_TRANS (Amazon EMR cluster).\n",
    "\n",
    "Now we have to perform the following:\n",
    "\n",
    "Read the ATM transactions data from HDFS and store it in a Spark dataframe (PySpark).\n",
    "Split the dataframe into dimensions and fact dataframes with proper keys generation for each dataframe and establish relationship between them.\n",
    "Store all the dimensions and fact data in the S3 bucket so that it can be loaded in Amazon Redshift and used for data analysis."
   ]
  },
  {
   "cell_type": "markdown",
   "id": "55a7edf3",
   "metadata": {},
   "source": [
    "## 1. Import PySpark Library And Establish Spark Session"
   ]
  },
  {
   "cell_type": "code",
   "execution_count": 1,
   "id": "5b6b0934",
   "metadata": {
    "scrolled": true
   },
   "outputs": [
    {
     "name": "stdout",
     "output_type": "stream",
     "text": [
      "Starting Spark application\n"
     ]
    },
    {
     "data": {
      "text/html": [
       "<table>\n",
       "<tr><th>ID</th><th>YARN Application ID</th><th>Kind</th><th>State</th><th>Spark UI</th><th>Driver log</th><th>User</th><th>Current session?</th></tr><tr><td>2</td><td>application_1690105962890_0003</td><td>pyspark</td><td>idle</td><td><a target=\"_blank\" href=\"http://ip-172-31-89-250.ec2.internal:20888/proxy/application_1690105962890_0003/\">Link</a></td><td><a target=\"_blank\" href=\"http://ip-172-31-89-250.ec2.internal:8042/node/containerlogs/container_1690105962890_0003_01_000001/livy\">Link</a></td><td>None</td><td>✔</td></tr></table>"
      ],
      "text/plain": [
       "<IPython.core.display.HTML object>"
      ]
     },
     "metadata": {},
     "output_type": "display_data"
    },
    {
     "data": {
      "application/vnd.jupyter.widget-view+json": {
       "model_id": "c0f35e387cd84b43871c09e5a4e48faf",
       "version_major": 2,
       "version_minor": 0
      },
      "text/plain": [
       "FloatProgress(value=0.0, bar_style='info', description='Progress:', layout=Layout(height='25px', width='50%'),…"
      ]
     },
     "metadata": {},
     "output_type": "display_data"
    },
    {
     "name": "stdout",
     "output_type": "stream",
     "text": [
      "SparkSession available as 'spark'.\n"
     ]
    },
    {
     "data": {
      "application/vnd.jupyter.widget-view+json": {
       "model_id": "226e6db98b9d412ea82607e29d91d29b",
       "version_major": 2,
       "version_minor": 0
      },
      "text/plain": [
       "FloatProgress(value=0.0, bar_style='info', description='Progress:', layout=Layout(height='25px', width='50%'),…"
      ]
     },
     "metadata": {},
     "output_type": "display_data"
    }
   ],
   "source": [
    "import pyspark\n",
    "from pyspark.conf import SparkConf\n",
    "from pyspark.sql import SparkSession, SQLContext\n",
    "conf = SparkConf()\n",
    "conf.set('spark.sql.catalogImplementation', 'in-memory')\n",
    "spark = SparkSession.builder.appName('ETLSparkCode').config(conf=conf).getOrCreate()\n",
    "sc = spark.sparkContext"
   ]
  },
  {
   "cell_type": "code",
   "execution_count": 2,
   "id": "1d3b5551",
   "metadata": {},
   "outputs": [
    {
     "data": {
      "application/vnd.jupyter.widget-view+json": {
       "model_id": "270bfb13bef14b23b02c82e602f729f7",
       "version_major": 2,
       "version_minor": 0
      },
      "text/plain": [
       "FloatProgress(value=0.0, bar_style='info', description='Progress:', layout=Layout(height='25px', width='50%'),…"
      ]
     },
     "metadata": {},
     "output_type": "display_data"
    },
    {
     "name": "stdout",
     "output_type": "stream",
     "text": [
      "<SparkContext master=yarn appName=livy-session-2>"
     ]
    }
   ],
   "source": [
    "sc"
   ]
  },
  {
   "cell_type": "markdown",
   "id": "0c0e94e8",
   "metadata": {},
   "source": [
    "## 2. Read the ATM Transactions data from HDFS"
   ]
  },
  {
   "cell_type": "code",
   "execution_count": 3,
   "id": "cc6c6aad",
   "metadata": {},
   "outputs": [
    {
     "data": {
      "application/vnd.jupyter.widget-view+json": {
       "model_id": "ef3d6e1302294750a88d4165ec768914",
       "version_major": 2,
       "version_minor": 0
      },
      "text/plain": [
       "FloatProgress(value=0.0, bar_style='info', description='Progress:', layout=Layout(height='25px', width='50%'),…"
      ]
     },
     "metadata": {},
     "output_type": "display_data"
    }
   ],
   "source": [
    "from pyspark.sql.types import StructType, StructField, IntegerType, StringType, BooleanType, DoubleType, LongType\n",
    "spar_nord_bank_schema = StructType([StructField('year', IntegerType(), nullable = True),\n",
    "                        StructField('month', StringType(), nullable = True),\n",
    "                        StructField('day', IntegerType(), nullable = True),\n",
    "                        StructField('weekday', StringType(), nullable = True),\n",
    "                        StructField('hour', IntegerType(), nullable = True),\n",
    "                        StructField('atm_status', StringType(), nullable = True),\n",
    "                        StructField('atm_id', StringType(), nullable = True),\n",
    "                        StructField('atm_manufacturer', StringType(), nullable = True),\n",
    "                        StructField('atm_location', StringType(), nullable = True),\n",
    "                        StructField('atm_streetname', StringType(), nullable = True),\n",
    "                        StructField('atm_street_number', IntegerType(), nullable = True),\n",
    "                        StructField('atm_zipcode', IntegerType(), nullable = True),\n",
    "                        StructField('atm_lat', DoubleType(), nullable = True),\n",
    "                        StructField('atm_lon', DoubleType(), nullable = True),\n",
    "                        StructField('currency', StringType(), nullable = True),\n",
    "                        StructField('card_type', StringType(), nullable = True),\n",
    "                        StructField('transaction_amount', IntegerType(), nullable = True),\n",
    "                        StructField('service', StringType(), nullable = True),\n",
    "                        StructField('message_code', StringType(), nullable = True),\n",
    "                        StructField('message_text', StringType(), nullable = True),\n",
    "                        StructField('weather_lat', DoubleType(), nullable = True),\n",
    "                        StructField('weather_lon', DoubleType(), nullable = True),\n",
    "                        StructField('weather_city_id', IntegerType(), nullable = True),\n",
    "                        StructField('weather_city_name', StringType(), nullable = True),\n",
    "                        StructField('temp', DoubleType(), nullable = True),\n",
    "                        StructField('pressure', IntegerType(), nullable = True),\n",
    "                        StructField('humidity', IntegerType(), nullable = True),\n",
    "                        StructField('wind_speed', IntegerType(), nullable = True),\n",
    "                        StructField('wind_deg', IntegerType(), nullable = True),\n",
    "                        StructField('rain_3h', DoubleType(), nullable = True),\n",
    "                        StructField('clouds_all', IntegerType(), nullable = True),\n",
    "                        StructField('weather_id', IntegerType(), nullable = True),\n",
    "                        StructField('weather_main', StringType(), nullable = True),\n",
    "                        StructField('weather_description', StringType(), nullable = True)])"
   ]
  },
  {
   "cell_type": "code",
   "execution_count": 4,
   "id": "9dcd8ce1",
   "metadata": {},
   "outputs": [
    {
     "data": {
      "application/vnd.jupyter.widget-view+json": {
       "model_id": "db3fd47a02a34fe7b3c272b88d354a42",
       "version_major": 2,
       "version_minor": 0
      },
      "text/plain": [
       "FloatProgress(value=0.0, bar_style='info', description='Progress:', layout=Layout(height='25px', width='50%'),…"
      ]
     },
     "metadata": {},
     "output_type": "display_data"
    },
    {
     "name": "stdout",
     "output_type": "stream",
     "text": [
      "+----+-------+---+-------+----+----------+------+----------------+------------+-------------------+-----------------+-----------+-------+-------+--------+----------+------------------+----------+------------+------------+-----------+-----------+---------------+-----------------+------+--------+--------+----------+--------+-------+----------+----------+------------+--------------------+\n",
      "|year|  month|day|weekday|hour|atm_status|atm_id|atm_manufacturer|atm_location|     atm_streetname|atm_street_number|atm_zipcode|atm_lat|atm_lon|currency| card_type|transaction_amount|   service|message_code|message_text|weather_lat|weather_lon|weather_city_id|weather_city_name|  temp|pressure|humidity|wind_speed|wind_deg|rain_3h|clouds_all|weather_id|weather_main| weather_description|\n",
      "+----+-------+---+-------+----+----------+------+----------------+------------+-------------------+-----------------+-----------+-------+-------+--------+----------+------------------+----------+------------+------------+-----------+-----------+---------------+-----------------+------+--------+--------+----------+--------+-------+----------+----------+------------+--------------------+\n",
      "|2017|January|  1| Sunday|   0|    Active|     1|             NCR|  NÃƒÂ¦stved|        Farimagsvej|                8|       4700| 55.233| 11.763|     DKK|MasterCard|              5643|Withdrawal|        null|        null|      55.23|     11.761|        2616038|         Naestved|281.15|    1014|      87|         7|     260|  0.215|        92|       500|        Rain|          light rain|\n",
      "|2017|January|  1| Sunday|   0|  Inactive|     2|             NCR|    Vejgaard|         Hadsundvej|               20|       9000| 57.043|   9.95|     DKK|MasterCard|              1764|Withdrawal|        null|        null|     57.048|      9.935|        2616235|   NÃƒÂ¸rresundby|280.64|    1020|      93|         9|     250|   0.59|        92|       500|        Rain|          light rain|\n",
      "|2017|January|  1| Sunday|   0|  Inactive|     2|             NCR|    Vejgaard|         Hadsundvej|               20|       9000| 57.043|   9.95|     DKK|      VISA|              1891|Withdrawal|        null|        null|     57.048|      9.935|        2616235|   NÃƒÂ¸rresundby|280.64|    1020|      93|         9|     250|   0.59|        92|       500|        Rain|          light rain|\n",
      "|2017|January|  1| Sunday|   0|  Inactive|     3|             NCR|       Ikast|RÃƒÂ¥dhusstrÃƒÂ¦det|               12|       7430| 56.139|  9.154|     DKK|      VISA|              4166|Withdrawal|        null|        null|     56.139|      9.158|        2619426|            Ikast|281.15|    1011|     100|         6|     240|    0.0|        75|       300|     Drizzle|light intensity d...|\n",
      "|2017|January|  1| Sunday|   0|    Active|     4|             NCR|  Svogerslev|       BrÃƒÂ¸nsager|                1|       4000| 55.634| 12.018|     DKK|MasterCard|              5153|Withdrawal|        null|        null|     55.642|      12.08|        2614481|         Roskilde|280.61|    1014|      87|         7|     260|    0.0|        88|       701|        Mist|                mist|\n",
      "+----+-------+---+-------+----+----------+------+----------------+------------+-------------------+-----------------+-----------+-------+-------+--------+----------+------------------+----------+------------+------------+-----------+-----------+---------------+-----------------+------+--------+--------+----------+--------+-------+----------+----------+------------+--------------------+\n",
      "only showing top 5 rows"
     ]
    }
   ],
   "source": [
    "spar_nord_bank_df = spark.read.csv('hdfs:///user/root/SRC_ATM_TRANS/', header=False, schema=spar_nord_bank_schema)\n",
    "spar_nord_bank_df.show(5)"
   ]
  },
  {
   "cell_type": "code",
   "execution_count": 5,
   "id": "5f7a8b66",
   "metadata": {},
   "outputs": [
    {
     "data": {
      "application/vnd.jupyter.widget-view+json": {
       "model_id": "108ffd1c694742a6a5944e8565fcf744",
       "version_major": 2,
       "version_minor": 0
      },
      "text/plain": [
       "FloatProgress(value=0.0, bar_style='info', description='Progress:', layout=Layout(height='25px', width='50%'),…"
      ]
     },
     "metadata": {},
     "output_type": "display_data"
    },
    {
     "name": "stdout",
     "output_type": "stream",
     "text": [
      "2468572"
     ]
    }
   ],
   "source": [
    "spar_nord_bank_df.count()"
   ]
  },
  {
   "cell_type": "code",
   "execution_count": 6,
   "id": "dd384c14",
   "metadata": {},
   "outputs": [
    {
     "data": {
      "application/vnd.jupyter.widget-view+json": {
       "model_id": "72825d24163a4b7d99dad1b11f5c2aa8",
       "version_major": 2,
       "version_minor": 0
      },
      "text/plain": [
       "FloatProgress(value=0.0, bar_style='info', description='Progress:', layout=Layout(height='25px', width='50%'),…"
      ]
     },
     "metadata": {},
     "output_type": "display_data"
    },
    {
     "name": "stdout",
     "output_type": "stream",
     "text": [
      "root\n",
      " |-- year: integer (nullable = true)\n",
      " |-- month: string (nullable = true)\n",
      " |-- day: integer (nullable = true)\n",
      " |-- weekday: string (nullable = true)\n",
      " |-- hour: integer (nullable = true)\n",
      " |-- atm_status: string (nullable = true)\n",
      " |-- atm_id: string (nullable = true)\n",
      " |-- atm_manufacturer: string (nullable = true)\n",
      " |-- atm_location: string (nullable = true)\n",
      " |-- atm_streetname: string (nullable = true)\n",
      " |-- atm_street_number: integer (nullable = true)\n",
      " |-- atm_zipcode: integer (nullable = true)\n",
      " |-- atm_lat: double (nullable = true)\n",
      " |-- atm_lon: double (nullable = true)\n",
      " |-- currency: string (nullable = true)\n",
      " |-- card_type: string (nullable = true)\n",
      " |-- transaction_amount: integer (nullable = true)\n",
      " |-- service: string (nullable = true)\n",
      " |-- message_code: string (nullable = true)\n",
      " |-- message_text: string (nullable = true)\n",
      " |-- weather_lat: double (nullable = true)\n",
      " |-- weather_lon: double (nullable = true)\n",
      " |-- weather_city_id: integer (nullable = true)\n",
      " |-- weather_city_name: string (nullable = true)\n",
      " |-- temp: double (nullable = true)\n",
      " |-- pressure: integer (nullable = true)\n",
      " |-- humidity: integer (nullable = true)\n",
      " |-- wind_speed: integer (nullable = true)\n",
      " |-- wind_deg: integer (nullable = true)\n",
      " |-- rain_3h: double (nullable = true)\n",
      " |-- clouds_all: integer (nullable = true)\n",
      " |-- weather_id: integer (nullable = true)\n",
      " |-- weather_main: string (nullable = true)\n",
      " |-- weather_description: string (nullable = true)"
     ]
    }
   ],
   "source": [
    "spar_nord_bank_df.printSchema()"
   ]
  },
  {
   "cell_type": "code",
   "execution_count": 7,
   "id": "78d38996",
   "metadata": {},
   "outputs": [
    {
     "data": {
      "application/vnd.jupyter.widget-view+json": {
       "model_id": "75d1619fa54f401baa6c88812ae0b56c",
       "version_major": 2,
       "version_minor": 0
      },
      "text/plain": [
       "FloatProgress(value=0.0, bar_style='info', description='Progress:', layout=Layout(height='25px', width='50%'),…"
      ]
     },
     "metadata": {},
     "output_type": "display_data"
    },
    {
     "name": "stdout",
     "output_type": "stream",
     "text": [
      "+----+-------+---+-------+----+----------+------+----------------+------------+-------------------+-----------------+-----------+-------+-------+--------+----------+------------------+----------+------------+------------+-----------+-----------+---------------+-----------------+------+--------+--------+----------+--------+-------+----------+----------+------------+--------------------+\n",
      "|year|  month|day|weekday|hour|atm_status|atm_id|atm_manufacturer|atm_location|     atm_streetname|atm_street_number|atm_zipcode|atm_lat|atm_lon|currency| card_type|transaction_amount|   service|message_code|message_text|weather_lat|weather_lon|weather_city_id|weather_city_name|  temp|pressure|humidity|wind_speed|wind_deg|rain_3h|clouds_all|weather_id|weather_main| weather_description|\n",
      "+----+-------+---+-------+----+----------+------+----------------+------------+-------------------+-----------------+-----------+-------+-------+--------+----------+------------------+----------+------------+------------+-----------+-----------+---------------+-----------------+------+--------+--------+----------+--------+-------+----------+----------+------------+--------------------+\n",
      "|2017|January|  1| Sunday|   0|    Active|     1|             NCR|  NÃƒÂ¦stved|        Farimagsvej|                8|       4700| 55.233| 11.763|     DKK|MasterCard|              5643|Withdrawal|        null|        null|      55.23|     11.761|        2616038|         Naestved|281.15|    1014|      87|         7|     260|  0.215|        92|       500|        Rain|          light rain|\n",
      "|2017|January|  1| Sunday|   0|  Inactive|     2|             NCR|    Vejgaard|         Hadsundvej|               20|       9000| 57.043|   9.95|     DKK|MasterCard|              1764|Withdrawal|        null|        null|     57.048|      9.935|        2616235|   NÃƒÂ¸rresundby|280.64|    1020|      93|         9|     250|   0.59|        92|       500|        Rain|          light rain|\n",
      "|2017|January|  1| Sunday|   0|  Inactive|     2|             NCR|    Vejgaard|         Hadsundvej|               20|       9000| 57.043|   9.95|     DKK|      VISA|              1891|Withdrawal|        null|        null|     57.048|      9.935|        2616235|   NÃƒÂ¸rresundby|280.64|    1020|      93|         9|     250|   0.59|        92|       500|        Rain|          light rain|\n",
      "|2017|January|  1| Sunday|   0|  Inactive|     3|             NCR|       Ikast|RÃƒÂ¥dhusstrÃƒÂ¦det|               12|       7430| 56.139|  9.154|     DKK|      VISA|              4166|Withdrawal|        null|        null|     56.139|      9.158|        2619426|            Ikast|281.15|    1011|     100|         6|     240|    0.0|        75|       300|     Drizzle|light intensity d...|\n",
      "|2017|January|  1| Sunday|   0|    Active|     4|             NCR|  Svogerslev|       BrÃƒÂ¸nsager|                1|       4000| 55.634| 12.018|     DKK|MasterCard|              5153|Withdrawal|        null|        null|     55.642|      12.08|        2614481|         Roskilde|280.61|    1014|      87|         7|     260|    0.0|        88|       701|        Mist|                mist|\n",
      "+----+-------+---+-------+----+----------+------+----------------+------------+-------------------+-----------------+-----------+-------+-------+--------+----------+------------------+----------+------------+------------+-----------+-----------+---------------+-----------------+------+--------+--------+----------+--------+-------+----------+----------+------------+--------------------+"
     ]
    }
   ],
   "source": [
    "spar_nord_bank_df.createOrReplaceTempView('spar_nord_bank_trans')\n",
    "spark.sql('SELECT * FROM spar_nord_bank_trans LIMIT 5').show()"
   ]
  },
  {
   "cell_type": "markdown",
   "id": "af7505ed",
   "metadata": {},
   "source": [
    "Observation:\n",
    "From the above results we can see that:\n",
    "\n",
    "Records count from the spark dataframe matches with MySQL table source data (2468572).\n",
    "All the attributes contains required datatypes as per the data dictionary provided in the business requirement. Now let's break this single dataframe into dimension and fact tables/files and build a proper relationship between dimensions and fact data."
   ]
  },
  {
   "cell_type": "markdown",
   "id": "e700a04e",
   "metadata": {},
   "source": [
    "## 3. Create Dimensions and Fact tables data from the Original Dataframe"
   ]
  },
  {
   "cell_type": "markdown",
   "id": "27bd6056",
   "metadata": {},
   "source": [
    "Create a temporary view for the original dataframe in order to process further using SparkSQL."
   ]
  },
  {
   "cell_type": "markdown",
   "id": "9e405507",
   "metadata": {},
   "source": [
    "### 3.1 Create Location Dimension Table"
   ]
  },
  {
   "cell_type": "code",
   "execution_count": 8,
   "id": "cdb51d31",
   "metadata": {},
   "outputs": [
    {
     "data": {
      "application/vnd.jupyter.widget-view+json": {
       "model_id": "a1e1b425869e4238a873f658cbf5c9fe",
       "version_major": 2,
       "version_minor": 0
      },
      "text/plain": [
       "FloatProgress(value=0.0, bar_style='info', description='Progress:', layout=Layout(height='25px', width='50%'),…"
      ]
     },
     "metadata": {},
     "output_type": "display_data"
    }
   ],
   "source": [
    "dim_location = spark.sql('''\n",
    "                        WITH location_details AS\n",
    "                        (\n",
    "                            SELECT \n",
    "                                atm_location as location,\n",
    "                                atm_streetname as streetname,\n",
    "                                atm_street_number as street_number,\n",
    "                                atm_zipcode as zipcode,\n",
    "                                atm_lat as lat,\n",
    "                                atm_lon as lon\n",
    "                            FROM\n",
    "                                spar_nord_bank_trans\n",
    "                            GROUP BY\n",
    "                                atm_location,\n",
    "                                atm_streetname,\n",
    "                                atm_street_number,\n",
    "                                atm_zipcode,\n",
    "                                atm_lat,\n",
    "                                atm_lon\n",
    "                        )\n",
    "                        SELECT \n",
    "                            ROW_NUMBER() OVER (ORDER BY location) AS location_id,\n",
    "                            location,\n",
    "                            streetname,\n",
    "                            street_number,\n",
    "                            zipcode,\n",
    "                            lat,\n",
    "                            lon\n",
    "                        FROM location_details\n",
    "                        ''')"
   ]
  },
  {
   "cell_type": "code",
   "execution_count": 9,
   "id": "6a7d2a39",
   "metadata": {},
   "outputs": [
    {
     "data": {
      "application/vnd.jupyter.widget-view+json": {
       "model_id": "cc2b2ab56b5746259e943e46434ab154",
       "version_major": 2,
       "version_minor": 0
      },
      "text/plain": [
       "FloatProgress(value=0.0, bar_style='info', description='Progress:', layout=Layout(height='25px', width='50%'),…"
      ]
     },
     "metadata": {},
     "output_type": "display_data"
    },
    {
     "name": "stdout",
     "output_type": "stream",
     "text": [
      "+-----------+--------------------------+------------+-------------+-------+------+-----+\n",
      "|location_id|location                  |streetname  |street_number|zipcode|lat   |lon  |\n",
      "+-----------+--------------------------+------------+-------------+-------+------+-----+\n",
      "|1          |Aabybro                   |ÃƒËœstergade|6            |9440   |57.162|9.73 |\n",
      "|2          |Aalborg Hallen            |Europa Plads|4            |9000   |57.044|9.913|\n",
      "|3          |Aalborg Storcenter  Afd   |Hobrovej    |452          |9200   |57.005|9.876|\n",
      "|4          |Aalborg Storcenter indg. D|Hobrovej    |452          |9200   |57.005|9.876|\n",
      "|5          |Aalborg Syd               |Hobrovej    |440          |9200   |57.005|9.881|\n",
      "+-----------+--------------------------+------------+-------------+-------+------+-----+\n",
      "only showing top 5 rows"
     ]
    }
   ],
   "source": [
    "dim_location.show(5, truncate=False)"
   ]
  },
  {
   "cell_type": "code",
   "execution_count": 10,
   "id": "f4f9f0ee",
   "metadata": {},
   "outputs": [
    {
     "data": {
      "application/vnd.jupyter.widget-view+json": {
       "model_id": "187b5a2609ff4f59b638b0f78374b786",
       "version_major": 2,
       "version_minor": 0
      },
      "text/plain": [
       "FloatProgress(value=0.0, bar_style='info', description='Progress:', layout=Layout(height='25px', width='50%'),…"
      ]
     },
     "metadata": {},
     "output_type": "display_data"
    },
    {
     "name": "stdout",
     "output_type": "stream",
     "text": [
      "root\n",
      " |-- location_id: integer (nullable = false)\n",
      " |-- location: string (nullable = true)\n",
      " |-- streetname: string (nullable = true)\n",
      " |-- street_number: integer (nullable = true)\n",
      " |-- zipcode: integer (nullable = true)\n",
      " |-- lat: double (nullable = true)\n",
      " |-- lon: double (nullable = true)"
     ]
    }
   ],
   "source": [
    "dim_location.printSchema()"
   ]
  },
  {
   "cell_type": "code",
   "execution_count": 11,
   "id": "e6465751",
   "metadata": {},
   "outputs": [
    {
     "data": {
      "application/vnd.jupyter.widget-view+json": {
       "model_id": "91d7f890456c427ca507b240c0cb793d",
       "version_major": 2,
       "version_minor": 0
      },
      "text/plain": [
       "FloatProgress(value=0.0, bar_style='info', description='Progress:', layout=Layout(height='25px', width='50%'),…"
      ]
     },
     "metadata": {},
     "output_type": "display_data"
    },
    {
     "name": "stdout",
     "output_type": "stream",
     "text": [
      "109"
     ]
    }
   ],
   "source": [
    "dim_location.count()"
   ]
  },
  {
   "cell_type": "markdown",
   "id": "8e8126d6",
   "metadata": {},
   "source": [
    "Observation:\n",
    "We have successfully created location dimension data with unique records and assigned unique keys for each location.\n",
    "We have total of 109 locations available in the dataset."
   ]
  },
  {
   "cell_type": "markdown",
   "id": "935a17dc",
   "metadata": {},
   "source": [
    "### 3.2 Create Card Type Dimension Table"
   ]
  },
  {
   "cell_type": "code",
   "execution_count": 12,
   "id": "cff4f1df",
   "metadata": {},
   "outputs": [
    {
     "data": {
      "application/vnd.jupyter.widget-view+json": {
       "model_id": "0a21aa2de8454cc4819f99979feda8cb",
       "version_major": 2,
       "version_minor": 0
      },
      "text/plain": [
       "FloatProgress(value=0.0, bar_style='info', description='Progress:', layout=Layout(height='25px', width='50%'),…"
      ]
     },
     "metadata": {},
     "output_type": "display_data"
    }
   ],
   "source": [
    "dim_card_type = spark.sql('''\n",
    "                        WITH card_type_details AS\n",
    "                        (\n",
    "                            SELECT \n",
    "                                card_type\n",
    "                            FROM\n",
    "                                spar_nord_bank_trans\n",
    "                            GROUP BY\n",
    "                                card_type\n",
    "                        )\n",
    "                        SELECT \n",
    "                            ROW_NUMBER() OVER (ORDER BY card_type) AS card_type_id,\n",
    "                            card_type\n",
    "                        FROM card_type_details\n",
    "                        ''')"
   ]
  },
  {
   "cell_type": "code",
   "execution_count": 13,
   "id": "ab76de40",
   "metadata": {},
   "outputs": [
    {
     "data": {
      "application/vnd.jupyter.widget-view+json": {
       "model_id": "6c0a28ab893b49de96224de63ad0ee51",
       "version_major": 2,
       "version_minor": 0
      },
      "text/plain": [
       "FloatProgress(value=0.0, bar_style='info', description='Progress:', layout=Layout(height='25px', width='50%'),…"
      ]
     },
     "metadata": {},
     "output_type": "display_data"
    },
    {
     "name": "stdout",
     "output_type": "stream",
     "text": [
      "+------------+-------------------+\n",
      "|card_type_id|card_type          |\n",
      "+------------+-------------------+\n",
      "|1           |CIRRUS             |\n",
      "|2           |Dankort            |\n",
      "|3           |Dankort - on-us    |\n",
      "|4           |HÃƒÂ¦vekort        |\n",
      "|5           |HÃƒÂ¦vekort - on-us|\n",
      "+------------+-------------------+\n",
      "only showing top 5 rows"
     ]
    }
   ],
   "source": [
    "dim_card_type.show(5, truncate=False)"
   ]
  },
  {
   "cell_type": "code",
   "execution_count": 14,
   "id": "56f5059a",
   "metadata": {},
   "outputs": [
    {
     "data": {
      "application/vnd.jupyter.widget-view+json": {
       "model_id": "2982617b871c495dbce298022b4a9541",
       "version_major": 2,
       "version_minor": 0
      },
      "text/plain": [
       "FloatProgress(value=0.0, bar_style='info', description='Progress:', layout=Layout(height='25px', width='50%'),…"
      ]
     },
     "metadata": {},
     "output_type": "display_data"
    },
    {
     "name": "stdout",
     "output_type": "stream",
     "text": [
      "root\n",
      " |-- card_type_id: integer (nullable = false)\n",
      " |-- card_type: string (nullable = true)"
     ]
    }
   ],
   "source": [
    "dim_card_type.printSchema()"
   ]
  },
  {
   "cell_type": "code",
   "execution_count": 15,
   "id": "5631ac48",
   "metadata": {},
   "outputs": [
    {
     "data": {
      "application/vnd.jupyter.widget-view+json": {
       "model_id": "f9d4f07ea68b4037b13cc66a6e1f7607",
       "version_major": 2,
       "version_minor": 0
      },
      "text/plain": [
       "FloatProgress(value=0.0, bar_style='info', description='Progress:', layout=Layout(height='25px', width='50%'),…"
      ]
     },
     "metadata": {},
     "output_type": "display_data"
    },
    {
     "name": "stdout",
     "output_type": "stream",
     "text": [
      "12"
     ]
    }
   ],
   "source": [
    "dim_card_type.count()"
   ]
  },
  {
   "cell_type": "markdown",
   "id": "d878c201",
   "metadata": {},
   "source": [
    "Observation:\n",
    "We have successfully created card type dimension data with unique records and assigned unique keys for each type.\n",
    "We have total of 12 card types available in the dataset."
   ]
  },
  {
   "cell_type": "markdown",
   "id": "eb7087eb",
   "metadata": {},
   "source": [
    "### 3.3 Create Date Dimension Table"
   ]
  },
  {
   "cell_type": "code",
   "execution_count": 16,
   "id": "111c481e",
   "metadata": {},
   "outputs": [
    {
     "data": {
      "application/vnd.jupyter.widget-view+json": {
       "model_id": "d4987d4abfbb46a1be58961876bc5dd0",
       "version_major": 2,
       "version_minor": 0
      },
      "text/plain": [
       "FloatProgress(value=0.0, bar_style='info', description='Progress:', layout=Layout(height='25px', width='50%'),…"
      ]
     },
     "metadata": {},
     "output_type": "display_data"
    }
   ],
   "source": [
    "date = spar_nord_bank_df.select('year', 'month', 'day', 'hour', 'weekday')"
   ]
  },
  {
   "cell_type": "code",
   "execution_count": 17,
   "id": "eb4a0300",
   "metadata": {},
   "outputs": [
    {
     "data": {
      "application/vnd.jupyter.widget-view+json": {
       "model_id": "75367b5d1873443ea2625b5bf3c87bfa",
       "version_major": 2,
       "version_minor": 0
      },
      "text/plain": [
       "FloatProgress(value=0.0, bar_style='info', description='Progress:', layout=Layout(height='25px', width='50%'),…"
      ]
     },
     "metadata": {},
     "output_type": "display_data"
    },
    {
     "name": "stdout",
     "output_type": "stream",
     "text": [
      "[Row(year=2017, month='January', day=1, hour=0, weekday='Sunday'), Row(year=2017, month='January', day=1, hour=0, weekday='Sunday'), Row(year=2017, month='January', day=1, hour=0, weekday='Sunday'), Row(year=2017, month='January', day=1, hour=0, weekday='Sunday'), Row(year=2017, month='January', day=1, hour=0, weekday='Sunday')]"
     ]
    }
   ],
   "source": [
    "date.head(5)"
   ]
  },
  {
   "cell_type": "code",
   "execution_count": 18,
   "id": "49f70473",
   "metadata": {},
   "outputs": [
    {
     "data": {
      "application/vnd.jupyter.widget-view+json": {
       "model_id": "6a829f25456142848a0115efdd439f9a",
       "version_major": 2,
       "version_minor": 0
      },
      "text/plain": [
       "FloatProgress(value=0.0, bar_style='info', description='Progress:', layout=Layout(height='25px', width='50%'),…"
      ]
     },
     "metadata": {},
     "output_type": "display_data"
    }
   ],
   "source": [
    "dim_date = spark.sql('''\n",
    "                        WITH date_details AS\n",
    "                        (\n",
    "                            SELECT \n",
    "                                case when length(hour) = 1 then\n",
    "                                CONCAT(year, '-', month, '-', day, ' ', '0', hour, ':', '00', ':', '00') \n",
    "                                else\n",
    "                                CONCAT(year, '-', month, '-', day, ' ', hour, ':', '00', ':', '00') \n",
    "                                end AS full_date_time,\n",
    "                                year,\n",
    "                                month,\n",
    "                                day,\n",
    "                                hour,\n",
    "                                weekday\n",
    "                            FROM\n",
    "                                spar_nord_bank_trans\n",
    "                            GROUP BY\n",
    "                                year,\n",
    "                                month,\n",
    "                                day,\n",
    "                                hour,\n",
    "                                weekday\n",
    "                        )\n",
    "                        SELECT \n",
    "                            full_date_time,\n",
    "                            year,\n",
    "                            month,\n",
    "                            day,\n",
    "                            hour,\n",
    "                            weekday\n",
    "                        FROM date_details\n",
    "                        ''')"
   ]
  },
  {
   "cell_type": "code",
   "execution_count": 19,
   "id": "fbcabcd2",
   "metadata": {},
   "outputs": [
    {
     "data": {
      "application/vnd.jupyter.widget-view+json": {
       "model_id": "60be494893424afcb33ccf140e2975f5",
       "version_major": 2,
       "version_minor": 0
      },
      "text/plain": [
       "FloatProgress(value=0.0, bar_style='info', description='Progress:', layout=Layout(height='25px', width='50%'),…"
      ]
     },
     "metadata": {},
     "output_type": "display_data"
    },
    {
     "name": "stdout",
     "output_type": "stream",
     "text": [
      "+------------------------+----+--------+---+----+---------+\n",
      "|full_date_time          |year|month   |day|hour|weekday  |\n",
      "+------------------------+----+--------+---+----+---------+\n",
      "|2017-February-7 11:00:00|2017|February|7  |11  |Tuesday  |\n",
      "|2017-March-4 19:00:00   |2017|March   |4  |19  |Saturday |\n",
      "|2017-March-1 12:00:00   |2017|March   |1  |12  |Wednesday|\n",
      "|2017-January-13 19:00:00|2017|January |13 |19  |Friday   |\n",
      "|2017-March-7 20:00:00   |2017|March   |7  |20  |Tuesday  |\n",
      "|2017-March-20 19:00:00  |2017|March   |20 |19  |Monday   |\n",
      "|2017-March-22 22:00:00  |2017|March   |22 |22  |Wednesday|\n",
      "|2017-January-25 14:00:00|2017|January |25 |14  |Wednesday|\n",
      "|2017-March-11 08:00:00  |2017|March   |11 |8   |Saturday |\n",
      "|2017-March-22 13:00:00  |2017|March   |22 |13  |Wednesday|\n",
      "+------------------------+----+--------+---+----+---------+\n",
      "only showing top 10 rows"
     ]
    }
   ],
   "source": [
    "dim_date.show(10, truncate=False)"
   ]
  },
  {
   "cell_type": "code",
   "execution_count": 20,
   "id": "477d5bb2",
   "metadata": {},
   "outputs": [
    {
     "data": {
      "application/vnd.jupyter.widget-view+json": {
       "model_id": "dc56083c81514d46a3508493a80e78e7",
       "version_major": 2,
       "version_minor": 0
      },
      "text/plain": [
       "FloatProgress(value=0.0, bar_style='info', description='Progress:', layout=Layout(height='25px', width='50%'),…"
      ]
     },
     "metadata": {},
     "output_type": "display_data"
    },
    {
     "name": "stdout",
     "output_type": "stream",
     "text": [
      "root\n",
      " |-- full_date_time: string (nullable = true)\n",
      " |-- year: integer (nullable = true)\n",
      " |-- month: string (nullable = true)\n",
      " |-- day: integer (nullable = true)\n",
      " |-- hour: integer (nullable = true)\n",
      " |-- weekday: string (nullable = true)"
     ]
    }
   ],
   "source": [
    "dim_date.printSchema()"
   ]
  },
  {
   "cell_type": "code",
   "execution_count": 21,
   "id": "8538dfef",
   "metadata": {},
   "outputs": [
    {
     "data": {
      "application/vnd.jupyter.widget-view+json": {
       "model_id": "e324259b70214b62afc417906def7bd0",
       "version_major": 2,
       "version_minor": 0
      },
      "text/plain": [
       "FloatProgress(value=0.0, bar_style='info', description='Progress:', layout=Layout(height='25px', width='50%'),…"
      ]
     },
     "metadata": {},
     "output_type": "display_data"
    },
    {
     "name": "stdout",
     "output_type": "stream",
     "text": [
      "+------------------------+----+--------+---+----+---------+\n",
      "|full_date_time          |year|month   |day|hour|weekday  |\n",
      "+------------------------+----+--------+---+----+---------+\n",
      "|2017-February-7 11:00:00|2017|February|7  |11  |Tuesday  |\n",
      "|2017-March-4 19:00:00   |2017|March   |4  |19  |Saturday |\n",
      "|2017-March-1 12:00:00   |2017|March   |1  |12  |Wednesday|\n",
      "|2017-January-13 19:00:00|2017|January |13 |19  |Friday   |\n",
      "|2017-March-7 20:00:00   |2017|March   |7  |20  |Tuesday  |\n",
      "|2017-March-20 19:00:00  |2017|March   |20 |19  |Monday   |\n",
      "|2017-March-22 22:00:00  |2017|March   |22 |22  |Wednesday|\n",
      "|2017-January-25 14:00:00|2017|January |25 |14  |Wednesday|\n",
      "|2017-March-11 08:00:00  |2017|March   |11 |8   |Saturday |\n",
      "|2017-March-22 13:00:00  |2017|March   |22 |13  |Wednesday|\n",
      "+------------------------+----+--------+---+----+---------+\n",
      "only showing top 10 rows"
     ]
    }
   ],
   "source": [
    "dim_date.show(10, truncate=False)"
   ]
  },
  {
   "cell_type": "markdown",
   "id": "c966efd8",
   "metadata": {},
   "source": [
    "### Convert full_date_time attribute data type to timestamp and create a primary key for date dim."
   ]
  },
  {
   "cell_type": "code",
   "execution_count": 22,
   "id": "bfb333c3",
   "metadata": {},
   "outputs": [
    {
     "data": {
      "application/vnd.jupyter.widget-view+json": {
       "model_id": "c92eb05118c548b49608b33b619bc2da",
       "version_major": 2,
       "version_minor": 0
      },
      "text/plain": [
       "FloatProgress(value=0.0, bar_style='info', description='Progress:', layout=Layout(height='25px', width='50%'),…"
      ]
     },
     "metadata": {},
     "output_type": "display_data"
    }
   ],
   "source": [
    "# Type conversion of full date time attribute\n",
    "from pyspark.sql.functions import col, unix_timestamp, row_number\n",
    "from pyspark.sql.window import Window\n",
    "dim_date = dim_date.withColumn('full_date_time', unix_timestamp(col('full_date_time'), 'yyyy-MMMM-d HH:mm:ss').cast('timestamp'))\n",
    "dim_date = dim_date.withColumn('full_date_time', unix_timestamp(col('full_date_time'), 'yyyy-MMMM-dd HH:mm:ss').cast('timestamp'))\n",
    "\n",
    "# Create primary key for date dim\n",
    "date_w = Window().orderBy('full_date_time')\n",
    "dim_date = dim_date.withColumn('date_id', row_number().over(date_w))\n",
    "\n",
    "dim_date = dim_date.withColumn('full_date_time', unix_timestamp(col('full_date_time'), 'yyyy-MMMM-dd HH:mm:ss').cast('timestamp'))\n",
    "\n",
    "# Create primary key for date dim\n",
    "\n",
    "dim_date1 = dim_date.select('date_id', 'full_date_time', 'year', 'month', 'day', 'hour', 'weekday')"
   ]
  },
  {
   "cell_type": "code",
   "execution_count": 23,
   "id": "3223ed8c",
   "metadata": {},
   "outputs": [
    {
     "data": {
      "application/vnd.jupyter.widget-view+json": {
       "model_id": "45a2abb8e01341e1961303baa623b1cb",
       "version_major": 2,
       "version_minor": 0
      },
      "text/plain": [
       "FloatProgress(value=0.0, bar_style='info', description='Progress:', layout=Layout(height='25px', width='50%'),…"
      ]
     },
     "metadata": {},
     "output_type": "display_data"
    },
    {
     "name": "stdout",
     "output_type": "stream",
     "text": [
      "+-------+-------------------+----+-------+---+----+-------+\n",
      "|date_id|full_date_time     |year|month  |day|hour|weekday|\n",
      "+-------+-------------------+----+-------+---+----+-------+\n",
      "|1      |2017-01-01 00:00:00|2017|January|1  |0   |Sunday |\n",
      "|2      |2017-01-01 01:00:00|2017|January|1  |1   |Sunday |\n",
      "|3      |2017-01-01 02:00:00|2017|January|1  |2   |Sunday |\n",
      "|4      |2017-01-01 03:00:00|2017|January|1  |3   |Sunday |\n",
      "|5      |2017-01-01 04:00:00|2017|January|1  |4   |Sunday |\n",
      "+-------+-------------------+----+-------+---+----+-------+\n",
      "only showing top 5 rows"
     ]
    }
   ],
   "source": [
    "dim_date1.show(5, truncate=False)"
   ]
  },
  {
   "cell_type": "code",
   "execution_count": 24,
   "id": "a4d3f009",
   "metadata": {},
   "outputs": [
    {
     "data": {
      "application/vnd.jupyter.widget-view+json": {
       "model_id": "47f86c0356d44cf29719b5a66356090c",
       "version_major": 2,
       "version_minor": 0
      },
      "text/plain": [
       "FloatProgress(value=0.0, bar_style='info', description='Progress:', layout=Layout(height='25px', width='50%'),…"
      ]
     },
     "metadata": {},
     "output_type": "display_data"
    }
   ],
   "source": [
    "dim_date = dim_date1"
   ]
  },
  {
   "cell_type": "code",
   "execution_count": 25,
   "id": "1a976394",
   "metadata": {},
   "outputs": [
    {
     "data": {
      "application/vnd.jupyter.widget-view+json": {
       "model_id": "8aeefe80b2924c1c88539d49bf019056",
       "version_major": 2,
       "version_minor": 0
      },
      "text/plain": [
       "FloatProgress(value=0.0, bar_style='info', description='Progress:', layout=Layout(height='25px', width='50%'),…"
      ]
     },
     "metadata": {},
     "output_type": "display_data"
    },
    {
     "name": "stdout",
     "output_type": "stream",
     "text": [
      "+-------+-------------------+----+-------+---+----+-------+\n",
      "|date_id|full_date_time     |year|month  |day|hour|weekday|\n",
      "+-------+-------------------+----+-------+---+----+-------+\n",
      "|1      |2017-01-01 00:00:00|2017|January|1  |0   |Sunday |\n",
      "|2      |2017-01-01 01:00:00|2017|January|1  |1   |Sunday |\n",
      "|3      |2017-01-01 02:00:00|2017|January|1  |2   |Sunday |\n",
      "|4      |2017-01-01 03:00:00|2017|January|1  |3   |Sunday |\n",
      "|5      |2017-01-01 04:00:00|2017|January|1  |4   |Sunday |\n",
      "+-------+-------------------+----+-------+---+----+-------+\n",
      "only showing top 5 rows"
     ]
    }
   ],
   "source": [
    "dim_date.show(5, truncate=False)"
   ]
  },
  {
   "cell_type": "code",
   "execution_count": 26,
   "id": "b6cb0343",
   "metadata": {},
   "outputs": [
    {
     "data": {
      "application/vnd.jupyter.widget-view+json": {
       "model_id": "941d40ce48b9483c8bfa5bc61dbe34b4",
       "version_major": 2,
       "version_minor": 0
      },
      "text/plain": [
       "FloatProgress(value=0.0, bar_style='info', description='Progress:', layout=Layout(height='25px', width='50%'),…"
      ]
     },
     "metadata": {},
     "output_type": "display_data"
    },
    {
     "name": "stdout",
     "output_type": "stream",
     "text": [
      "root\n",
      " |-- date_id: integer (nullable = false)\n",
      " |-- full_date_time: timestamp (nullable = true)\n",
      " |-- year: integer (nullable = true)\n",
      " |-- month: string (nullable = true)\n",
      " |-- day: integer (nullable = true)\n",
      " |-- hour: integer (nullable = true)\n",
      " |-- weekday: string (nullable = true)"
     ]
    }
   ],
   "source": [
    "dim_date.printSchema()"
   ]
  },
  {
   "cell_type": "code",
   "execution_count": 27,
   "id": "b357554e",
   "metadata": {},
   "outputs": [
    {
     "data": {
      "application/vnd.jupyter.widget-view+json": {
       "model_id": "b4398a75326e494b9dc2d9ca5a735c98",
       "version_major": 2,
       "version_minor": 0
      },
      "text/plain": [
       "FloatProgress(value=0.0, bar_style='info', description='Progress:', layout=Layout(height='25px', width='50%'),…"
      ]
     },
     "metadata": {},
     "output_type": "display_data"
    },
    {
     "name": "stdout",
     "output_type": "stream",
     "text": [
      "8685"
     ]
    }
   ],
   "source": [
    "dim_date.count()"
   ]
  },
  {
   "cell_type": "markdown",
   "id": "473d7e03",
   "metadata": {},
   "source": [
    "\n",
    "Observation:\n",
    "We have successfully created date dimension data with unique records and assigned unique keys for each type.\n",
    "We have total of 8685 records available in the date dim dataset"
   ]
  },
  {
   "cell_type": "markdown",
   "id": "d5cc151b",
   "metadata": {},
   "source": [
    "### 3.4 Create ATM Dimension Table"
   ]
  },
  {
   "cell_type": "code",
   "execution_count": 28,
   "id": "a0572671",
   "metadata": {},
   "outputs": [
    {
     "data": {
      "application/vnd.jupyter.widget-view+json": {
       "model_id": "da2d1def996643099294beb0a31af282",
       "version_major": 2,
       "version_minor": 0
      },
      "text/plain": [
       "FloatProgress(value=0.0, bar_style='info', description='Progress:', layout=Layout(height='25px', width='50%'),…"
      ]
     },
     "metadata": {},
     "output_type": "display_data"
    },
    {
     "name": "stdout",
     "output_type": "stream",
     "text": [
      "+-----------+--------------------------+------------+-------------+-------+------+-----+\n",
      "|location_id|location                  |streetname  |street_number|zipcode|lat   |lon  |\n",
      "+-----------+--------------------------+------------+-------------+-------+------+-----+\n",
      "|1          |Aabybro                   |ÃƒËœstergade|6            |9440   |57.162|9.73 |\n",
      "|2          |Aalborg Hallen            |Europa Plads|4            |9000   |57.044|9.913|\n",
      "|3          |Aalborg Storcenter  Afd   |Hobrovej    |452          |9200   |57.005|9.876|\n",
      "|4          |Aalborg Storcenter indg. D|Hobrovej    |452          |9200   |57.005|9.876|\n",
      "|5          |Aalborg Syd               |Hobrovej    |440          |9200   |57.005|9.881|\n",
      "+-----------+--------------------------+------------+-------------+-------+------+-----+"
     ]
    }
   ],
   "source": [
    "# Create a temp view for location dimension to perform lookup operation on original dataset\n",
    "dim_location.createOrReplaceTempView('location_dim_vw')\n",
    "spark.sql('SELECT * FROM location_dim_vw LIMIT 5').show(truncate=False)"
   ]
  },
  {
   "cell_type": "code",
   "execution_count": 29,
   "id": "5b5e9ffd",
   "metadata": {},
   "outputs": [
    {
     "data": {
      "application/vnd.jupyter.widget-view+json": {
       "model_id": "5002976e343942bab82c13d90d881b3a",
       "version_major": 2,
       "version_minor": 0
      },
      "text/plain": [
       "FloatProgress(value=0.0, bar_style='info', description='Progress:', layout=Layout(height='25px', width='50%'),…"
      ]
     },
     "metadata": {},
     "output_type": "display_data"
    }
   ],
   "source": [
    "# Create atm dimension table data with primary key generation\n",
    "dim_atm = spark.sql('''\n",
    "                        WITH atm_details AS\n",
    "                        (\n",
    "                            SELECT \n",
    "                                snt.atm_id AS atm_number,\n",
    "                                snt.atm_manufacturer AS atm_manufacturer,\n",
    "                                l.location_id AS atm_location_id\n",
    "                            FROM\n",
    "                                spar_nord_bank_trans snt\n",
    "                                LEFT JOIN location_dim_vw l\n",
    "                                    ON snt.atm_location = l.location\n",
    "                                        AND snt.atm_streetname = l.streetname\n",
    "                                        AND snt.atm_street_number = l.street_number\n",
    "                                        AND snt.atm_lat = l.lat\n",
    "                                        AND snt.atm_lon = l.lon\n",
    "                            GROUP BY\n",
    "                                snt.atm_id,\n",
    "                                snt.atm_manufacturer,\n",
    "                                l.location_id\n",
    "                        )\n",
    "                        SELECT \n",
    "                            ROW_NUMBER() OVER (ORDER BY atm_number, atm_manufacturer, atm_location_id) AS atm_id,\n",
    "                            atm_number,\n",
    "                            atm_manufacturer,\n",
    "                            atm_location_id\n",
    "                        FROM atm_details\n",
    "                        ''')"
   ]
  },
  {
   "cell_type": "code",
   "execution_count": 30,
   "id": "5c3d584f",
   "metadata": {},
   "outputs": [
    {
     "data": {
      "application/vnd.jupyter.widget-view+json": {
       "model_id": "04833bf246734774b9d33cf3a1b8fda5",
       "version_major": 2,
       "version_minor": 0
      },
      "text/plain": [
       "FloatProgress(value=0.0, bar_style='info', description='Progress:', layout=Layout(height='25px', width='50%'),…"
      ]
     },
     "metadata": {},
     "output_type": "display_data"
    },
    {
     "name": "stdout",
     "output_type": "stream",
     "text": [
      "+------+----------+----------------+---------------+\n",
      "|atm_id|atm_number|atm_manufacturer|atm_location_id|\n",
      "+------+----------+----------------+---------------+\n",
      "|1     |1         |NCR             |74             |\n",
      "|2     |10        |NCR             |76             |\n",
      "|3     |100       |NCR             |56             |\n",
      "|4     |101       |NCR             |17             |\n",
      "|5     |102       |NCR             |3              |\n",
      "+------+----------+----------------+---------------+\n",
      "only showing top 5 rows"
     ]
    }
   ],
   "source": [
    "# Check first 5 records of atm dim\n",
    "dim_atm.show(5, truncate=False)"
   ]
  },
  {
   "cell_type": "code",
   "execution_count": 31,
   "id": "ed83fde5",
   "metadata": {},
   "outputs": [
    {
     "data": {
      "application/vnd.jupyter.widget-view+json": {
       "model_id": "15c8258130eb41f3a3bcd5abb0c5a883",
       "version_major": 2,
       "version_minor": 0
      },
      "text/plain": [
       "FloatProgress(value=0.0, bar_style='info', description='Progress:', layout=Layout(height='25px', width='50%'),…"
      ]
     },
     "metadata": {},
     "output_type": "display_data"
    },
    {
     "name": "stdout",
     "output_type": "stream",
     "text": [
      "root\n",
      " |-- atm_id: integer (nullable = false)\n",
      " |-- atm_number: string (nullable = true)\n",
      " |-- atm_manufacturer: string (nullable = true)\n",
      " |-- atm_location_id: integer (nullable = true)"
     ]
    }
   ],
   "source": [
    "# Check atm dim data structure\n",
    "dim_atm.printSchema()"
   ]
  },
  {
   "cell_type": "code",
   "execution_count": 32,
   "id": "c699aad0",
   "metadata": {},
   "outputs": [
    {
     "data": {
      "application/vnd.jupyter.widget-view+json": {
       "model_id": "ec56d69d9a7145bbbe3b6781a3df886b",
       "version_major": 2,
       "version_minor": 0
      },
      "text/plain": [
       "FloatProgress(value=0.0, bar_style='info', description='Progress:', layout=Layout(height='25px', width='50%'),…"
      ]
     },
     "metadata": {},
     "output_type": "display_data"
    },
    {
     "name": "stdout",
     "output_type": "stream",
     "text": [
      "113"
     ]
    }
   ],
   "source": [
    "# Check total no. of records in atm dim\n",
    "dim_atm.count()"
   ]
  },
  {
   "cell_type": "markdown",
   "id": "24a139d0",
   "metadata": {},
   "source": [
    "### 3.5 Create ATM Transactions Fact Table"
   ]
  },
  {
   "cell_type": "markdown",
   "id": "4e39e087",
   "metadata": {},
   "source": [
    "Fact Stage 1\n",
    "Create first stage of ATM Trans fact table by performing left join with location dim from original dataset."
   ]
  },
  {
   "cell_type": "code",
   "execution_count": 33,
   "id": "a396b264",
   "metadata": {},
   "outputs": [
    {
     "data": {
      "application/vnd.jupyter.widget-view+json": {
       "model_id": "7026ab3c3fb34b4fbcf4f93f073660e8",
       "version_major": 2,
       "version_minor": 0
      },
      "text/plain": [
       "FloatProgress(value=0.0, bar_style='info', description='Progress:', layout=Layout(height='25px', width='50%'),…"
      ]
     },
     "metadata": {},
     "output_type": "display_data"
    }
   ],
   "source": [
    "fact_atm_trans_stg1 = spar_nord_bank_df.withColumnRenamed('atm_location','location').withColumnRenamed('atm_streetname','streetname')\\\n",
    "                      .withColumnRenamed('atm_street_number', 'street_number').withColumnRenamed('atm_zipcode', 'zipcode')\\\n",
    "                      .withColumnRenamed('atm_lat', 'lat').withColumnRenamed('atm_lon', 'lon')\n",
    "\n",
    "fact_atm_trans_stg1 = fact_atm_trans_stg1.join(dim_location, on=['location', 'streetname', 'street_number', 'zipcode','lat', 'lon'], how='left')\n",
    "fact_atm_trans_stg1 = fact_atm_trans_stg1.withColumnRenamed('location_id', 'atm_location_id')"
   ]
  },
  {
   "cell_type": "code",
   "execution_count": 34,
   "id": "cbff20d9",
   "metadata": {},
   "outputs": [
    {
     "data": {
      "application/vnd.jupyter.widget-view+json": {
       "model_id": "c3141211f6a84c1c98522f341525ae52",
       "version_major": 2,
       "version_minor": 0
      },
      "text/plain": [
       "FloatProgress(value=0.0, bar_style='info', description='Progress:', layout=Layout(height='25px', width='50%'),…"
      ]
     },
     "metadata": {},
     "output_type": "display_data"
    },
    {
     "name": "stdout",
     "output_type": "stream",
     "text": [
      "root\n",
      " |-- location: string (nullable = true)\n",
      " |-- streetname: string (nullable = true)\n",
      " |-- street_number: integer (nullable = true)\n",
      " |-- zipcode: integer (nullable = true)\n",
      " |-- lat: double (nullable = true)\n",
      " |-- lon: double (nullable = true)\n",
      " |-- year: integer (nullable = true)\n",
      " |-- month: string (nullable = true)\n",
      " |-- day: integer (nullable = true)\n",
      " |-- weekday: string (nullable = true)\n",
      " |-- hour: integer (nullable = true)\n",
      " |-- atm_status: string (nullable = true)\n",
      " |-- atm_id: string (nullable = true)\n",
      " |-- atm_manufacturer: string (nullable = true)\n",
      " |-- currency: string (nullable = true)\n",
      " |-- card_type: string (nullable = true)\n",
      " |-- transaction_amount: integer (nullable = true)\n",
      " |-- service: string (nullable = true)\n",
      " |-- message_code: string (nullable = true)\n",
      " |-- message_text: string (nullable = true)\n",
      " |-- weather_lat: double (nullable = true)\n",
      " |-- weather_lon: double (nullable = true)\n",
      " |-- weather_city_id: integer (nullable = true)\n",
      " |-- weather_city_name: string (nullable = true)\n",
      " |-- temp: double (nullable = true)\n",
      " |-- pressure: integer (nullable = true)\n",
      " |-- humidity: integer (nullable = true)\n",
      " |-- wind_speed: integer (nullable = true)\n",
      " |-- wind_deg: integer (nullable = true)\n",
      " |-- rain_3h: double (nullable = true)\n",
      " |-- clouds_all: integer (nullable = true)\n",
      " |-- weather_id: integer (nullable = true)\n",
      " |-- weather_main: string (nullable = true)\n",
      " |-- weather_description: string (nullable = true)\n",
      " |-- atm_location_id: integer (nullable = true)"
     ]
    }
   ],
   "source": [
    "# Check first stage data structure\n",
    "fact_atm_trans_stg1.printSchema()"
   ]
  },
  {
   "cell_type": "code",
   "execution_count": 35,
   "id": "356975ab",
   "metadata": {},
   "outputs": [
    {
     "data": {
      "application/vnd.jupyter.widget-view+json": {
       "model_id": "39652ae5d41f4990945519a0b39fa02c",
       "version_major": 2,
       "version_minor": 0
      },
      "text/plain": [
       "FloatProgress(value=0.0, bar_style='info', description='Progress:', layout=Layout(height='25px', width='50%'),…"
      ]
     },
     "metadata": {},
     "output_type": "display_data"
    },
    {
     "name": "stdout",
     "output_type": "stream",
     "text": [
      "2468572"
     ]
    }
   ],
   "source": [
    "# Check first stage count\n",
    "fact_atm_trans_stg1.count()"
   ]
  },
  {
   "cell_type": "markdown",
   "id": "220d0dbe",
   "metadata": {},
   "source": [
    "### Fact Stage 2"
   ]
  },
  {
   "cell_type": "code",
   "execution_count": 36,
   "id": "f87bda25",
   "metadata": {},
   "outputs": [
    {
     "data": {
      "application/vnd.jupyter.widget-view+json": {
       "model_id": "c3c368496ae744e18ccd5f89ea7707f3",
       "version_major": 2,
       "version_minor": 0
      },
      "text/plain": [
       "FloatProgress(value=0.0, bar_style='info', description='Progress:', layout=Layout(height='25px', width='50%'),…"
      ]
     },
     "metadata": {},
     "output_type": "display_data"
    }
   ],
   "source": [
    "fact_atm_trans_stg2 = fact_atm_trans_stg1.join(dim_card_type, on=['card_type'], how='left')"
   ]
  },
  {
   "cell_type": "code",
   "execution_count": 37,
   "id": "ca3f9814",
   "metadata": {},
   "outputs": [
    {
     "data": {
      "application/vnd.jupyter.widget-view+json": {
       "model_id": "ef822e68bd63419eb801cce1c9b650cb",
       "version_major": 2,
       "version_minor": 0
      },
      "text/plain": [
       "FloatProgress(value=0.0, bar_style='info', description='Progress:', layout=Layout(height='25px', width='50%'),…"
      ]
     },
     "metadata": {},
     "output_type": "display_data"
    },
    {
     "name": "stdout",
     "output_type": "stream",
     "text": [
      "root\n",
      " |-- card_type: string (nullable = true)\n",
      " |-- location: string (nullable = true)\n",
      " |-- streetname: string (nullable = true)\n",
      " |-- street_number: integer (nullable = true)\n",
      " |-- zipcode: integer (nullable = true)\n",
      " |-- lat: double (nullable = true)\n",
      " |-- lon: double (nullable = true)\n",
      " |-- year: integer (nullable = true)\n",
      " |-- month: string (nullable = true)\n",
      " |-- day: integer (nullable = true)\n",
      " |-- weekday: string (nullable = true)\n",
      " |-- hour: integer (nullable = true)\n",
      " |-- atm_status: string (nullable = true)\n",
      " |-- atm_id: string (nullable = true)\n",
      " |-- atm_manufacturer: string (nullable = true)\n",
      " |-- currency: string (nullable = true)\n",
      " |-- transaction_amount: integer (nullable = true)\n",
      " |-- service: string (nullable = true)\n",
      " |-- message_code: string (nullable = true)\n",
      " |-- message_text: string (nullable = true)\n",
      " |-- weather_lat: double (nullable = true)\n",
      " |-- weather_lon: double (nullable = true)\n",
      " |-- weather_city_id: integer (nullable = true)\n",
      " |-- weather_city_name: string (nullable = true)\n",
      " |-- temp: double (nullable = true)\n",
      " |-- pressure: integer (nullable = true)\n",
      " |-- humidity: integer (nullable = true)\n",
      " |-- wind_speed: integer (nullable = true)\n",
      " |-- wind_deg: integer (nullable = true)\n",
      " |-- rain_3h: double (nullable = true)\n",
      " |-- clouds_all: integer (nullable = true)\n",
      " |-- weather_id: integer (nullable = true)\n",
      " |-- weather_main: string (nullable = true)\n",
      " |-- weather_description: string (nullable = true)\n",
      " |-- atm_location_id: integer (nullable = true)\n",
      " |-- card_type_id: integer (nullable = true)"
     ]
    }
   ],
   "source": [
    "# Check second stage data structure\n",
    "fact_atm_trans_stg2.printSchema()"
   ]
  },
  {
   "cell_type": "code",
   "execution_count": 38,
   "id": "30c15a3d",
   "metadata": {},
   "outputs": [
    {
     "data": {
      "application/vnd.jupyter.widget-view+json": {
       "model_id": "708b8167b1104c6b8081fe5c18b2ea5b",
       "version_major": 2,
       "version_minor": 0
      },
      "text/plain": [
       "FloatProgress(value=0.0, bar_style='info', description='Progress:', layout=Layout(height='25px', width='50%'),…"
      ]
     },
     "metadata": {},
     "output_type": "display_data"
    },
    {
     "name": "stdout",
     "output_type": "stream",
     "text": [
      "2468572"
     ]
    }
   ],
   "source": [
    "# Check second stage count\n",
    "fact_atm_trans_stg2.count()"
   ]
  },
  {
   "cell_type": "markdown",
   "id": "4c0d9426",
   "metadata": {},
   "source": [
    "### Fact Stage 3"
   ]
  },
  {
   "cell_type": "code",
   "execution_count": 39,
   "id": "d047fc73",
   "metadata": {},
   "outputs": [
    {
     "data": {
      "application/vnd.jupyter.widget-view+json": {
       "model_id": "22659cd34e0b4171944cf75a914943af",
       "version_major": 2,
       "version_minor": 0
      },
      "text/plain": [
       "FloatProgress(value=0.0, bar_style='info', description='Progress:', layout=Layout(height='25px', width='50%'),…"
      ]
     },
     "metadata": {},
     "output_type": "display_data"
    }
   ],
   "source": [
    "fact_atm_trans_stg3 = fact_atm_trans_stg2.join(dim_date, on=['year', 'month', 'day', 'weekday', 'hour'], how='left')\n",
    "fact_atm_trans_stg3 = fact_atm_trans_stg3.withColumnRenamed('atm_id', 'atm_number')"
   ]
  },
  {
   "cell_type": "code",
   "execution_count": 40,
   "id": "f3da1c3e",
   "metadata": {},
   "outputs": [
    {
     "data": {
      "application/vnd.jupyter.widget-view+json": {
       "model_id": "0fd7c1e504dc4a819982b30b505e3243",
       "version_major": 2,
       "version_minor": 0
      },
      "text/plain": [
       "FloatProgress(value=0.0, bar_style='info', description='Progress:', layout=Layout(height='25px', width='50%'),…"
      ]
     },
     "metadata": {},
     "output_type": "display_data"
    },
    {
     "name": "stdout",
     "output_type": "stream",
     "text": [
      "root\n",
      " |-- year: integer (nullable = true)\n",
      " |-- month: string (nullable = true)\n",
      " |-- day: integer (nullable = true)\n",
      " |-- weekday: string (nullable = true)\n",
      " |-- hour: integer (nullable = true)\n",
      " |-- card_type: string (nullable = true)\n",
      " |-- location: string (nullable = true)\n",
      " |-- streetname: string (nullable = true)\n",
      " |-- street_number: integer (nullable = true)\n",
      " |-- zipcode: integer (nullable = true)\n",
      " |-- lat: double (nullable = true)\n",
      " |-- lon: double (nullable = true)\n",
      " |-- atm_status: string (nullable = true)\n",
      " |-- atm_number: string (nullable = true)\n",
      " |-- atm_manufacturer: string (nullable = true)\n",
      " |-- currency: string (nullable = true)\n",
      " |-- transaction_amount: integer (nullable = true)\n",
      " |-- service: string (nullable = true)\n",
      " |-- message_code: string (nullable = true)\n",
      " |-- message_text: string (nullable = true)\n",
      " |-- weather_lat: double (nullable = true)\n",
      " |-- weather_lon: double (nullable = true)\n",
      " |-- weather_city_id: integer (nullable = true)\n",
      " |-- weather_city_name: string (nullable = true)\n",
      " |-- temp: double (nullable = true)\n",
      " |-- pressure: integer (nullable = true)\n",
      " |-- humidity: integer (nullable = true)\n",
      " |-- wind_speed: integer (nullable = true)\n",
      " |-- wind_deg: integer (nullable = true)\n",
      " |-- rain_3h: double (nullable = true)\n",
      " |-- clouds_all: integer (nullable = true)\n",
      " |-- weather_id: integer (nullable = true)\n",
      " |-- weather_main: string (nullable = true)\n",
      " |-- weather_description: string (nullable = true)\n",
      " |-- atm_location_id: integer (nullable = true)\n",
      " |-- card_type_id: integer (nullable = true)\n",
      " |-- date_id: integer (nullable = true)\n",
      " |-- full_date_time: timestamp (nullable = true)"
     ]
    }
   ],
   "source": [
    "# Check third stage data structure\n",
    "fact_atm_trans_stg3.printSchema()"
   ]
  },
  {
   "cell_type": "code",
   "execution_count": 41,
   "id": "7b7fab50",
   "metadata": {},
   "outputs": [
    {
     "data": {
      "application/vnd.jupyter.widget-view+json": {
       "model_id": "48a0a133427441e8bc0acb1bcaf40d0e",
       "version_major": 2,
       "version_minor": 0
      },
      "text/plain": [
       "FloatProgress(value=0.0, bar_style='info', description='Progress:', layout=Layout(height='25px', width='50%'),…"
      ]
     },
     "metadata": {},
     "output_type": "display_data"
    },
    {
     "name": "stdout",
     "output_type": "stream",
     "text": [
      "2468572"
     ]
    }
   ],
   "source": [
    "# Check third stage count\n",
    "fact_atm_trans_stg3.count()"
   ]
  },
  {
   "cell_type": "markdown",
   "id": "a17e174e",
   "metadata": {},
   "source": [
    "### Fact Stage 4"
   ]
  },
  {
   "cell_type": "code",
   "execution_count": 42,
   "id": "332e7661",
   "metadata": {},
   "outputs": [
    {
     "data": {
      "application/vnd.jupyter.widget-view+json": {
       "model_id": "a83db67be8084608bc3f62181cb369e2",
       "version_major": 2,
       "version_minor": 0
      },
      "text/plain": [
       "FloatProgress(value=0.0, bar_style='info', description='Progress:', layout=Layout(height='25px', width='50%'),…"
      ]
     },
     "metadata": {},
     "output_type": "display_data"
    }
   ],
   "source": [
    "fact_atm_trans_stg4 = fact_atm_trans_stg3.join(dim_atm, on=['atm_number', 'atm_manufacturer', 'atm_location_id'], how='left')\n",
    "fact_atm_trans_stg4 = fact_atm_trans_stg4.withColumnRenamed('atm_location_id', 'weather_loc_id')"
   ]
  },
  {
   "cell_type": "code",
   "execution_count": 43,
   "id": "81b31e27",
   "metadata": {},
   "outputs": [
    {
     "data": {
      "application/vnd.jupyter.widget-view+json": {
       "model_id": "325b021af8334dd3a11dd48ee211f0db",
       "version_major": 2,
       "version_minor": 0
      },
      "text/plain": [
       "FloatProgress(value=0.0, bar_style='info', description='Progress:', layout=Layout(height='25px', width='50%'),…"
      ]
     },
     "metadata": {},
     "output_type": "display_data"
    },
    {
     "name": "stdout",
     "output_type": "stream",
     "text": [
      "root\n",
      " |-- atm_number: string (nullable = true)\n",
      " |-- atm_manufacturer: string (nullable = true)\n",
      " |-- weather_loc_id: integer (nullable = true)\n",
      " |-- year: integer (nullable = true)\n",
      " |-- month: string (nullable = true)\n",
      " |-- day: integer (nullable = true)\n",
      " |-- weekday: string (nullable = true)\n",
      " |-- hour: integer (nullable = true)\n",
      " |-- card_type: string (nullable = true)\n",
      " |-- location: string (nullable = true)\n",
      " |-- streetname: string (nullable = true)\n",
      " |-- street_number: integer (nullable = true)\n",
      " |-- zipcode: integer (nullable = true)\n",
      " |-- lat: double (nullable = true)\n",
      " |-- lon: double (nullable = true)\n",
      " |-- atm_status: string (nullable = true)\n",
      " |-- currency: string (nullable = true)\n",
      " |-- transaction_amount: integer (nullable = true)\n",
      " |-- service: string (nullable = true)\n",
      " |-- message_code: string (nullable = true)\n",
      " |-- message_text: string (nullable = true)\n",
      " |-- weather_lat: double (nullable = true)\n",
      " |-- weather_lon: double (nullable = true)\n",
      " |-- weather_city_id: integer (nullable = true)\n",
      " |-- weather_city_name: string (nullable = true)\n",
      " |-- temp: double (nullable = true)\n",
      " |-- pressure: integer (nullable = true)\n",
      " |-- humidity: integer (nullable = true)\n",
      " |-- wind_speed: integer (nullable = true)\n",
      " |-- wind_deg: integer (nullable = true)\n",
      " |-- rain_3h: double (nullable = true)\n",
      " |-- clouds_all: integer (nullable = true)\n",
      " |-- weather_id: integer (nullable = true)\n",
      " |-- weather_main: string (nullable = true)\n",
      " |-- weather_description: string (nullable = true)\n",
      " |-- card_type_id: integer (nullable = true)\n",
      " |-- date_id: integer (nullable = true)\n",
      " |-- full_date_time: timestamp (nullable = true)\n",
      " |-- atm_id: integer (nullable = true)"
     ]
    }
   ],
   "source": [
    "# Check fourth stage data structure\n",
    "fact_atm_trans_stg4.printSchema()"
   ]
  },
  {
   "cell_type": "code",
   "execution_count": 44,
   "id": "fcd0d25f",
   "metadata": {},
   "outputs": [
    {
     "data": {
      "application/vnd.jupyter.widget-view+json": {
       "model_id": "ac179b481bb14e1d85c1f0fd993a11aa",
       "version_major": 2,
       "version_minor": 0
      },
      "text/plain": [
       "FloatProgress(value=0.0, bar_style='info', description='Progress:', layout=Layout(height='25px', width='50%'),…"
      ]
     },
     "metadata": {},
     "output_type": "display_data"
    },
    {
     "name": "stdout",
     "output_type": "stream",
     "text": [
      "2468572"
     ]
    }
   ],
   "source": [
    "# Check fourth stage count\n",
    "fact_atm_trans_stg4.count()"
   ]
  },
  {
   "cell_type": "markdown",
   "id": "72134f67",
   "metadata": {},
   "source": [
    "### Final Fact ATM Transaction table"
   ]
  },
  {
   "cell_type": "code",
   "execution_count": 45,
   "id": "c7108292",
   "metadata": {},
   "outputs": [
    {
     "data": {
      "application/vnd.jupyter.widget-view+json": {
       "model_id": "5b9af09b945849b3a2c9cf330710bab6",
       "version_major": 2,
       "version_minor": 0
      },
      "text/plain": [
       "FloatProgress(value=0.0, bar_style='info', description='Progress:', layout=Layout(height='25px', width='50%'),…"
      ]
     },
     "metadata": {},
     "output_type": "display_data"
    }
   ],
   "source": [
    "# Create a primary key for fact table\n",
    "atm_trans_w = Window().orderBy('date_id')\n",
    "fact_atm_trans = fact_atm_trans_stg4.withColumn('trans_id', row_number().over(atm_trans_w))"
   ]
  },
  {
   "cell_type": "code",
   "execution_count": 46,
   "id": "373b9d90",
   "metadata": {},
   "outputs": [
    {
     "data": {
      "application/vnd.jupyter.widget-view+json": {
       "model_id": "83867fb442334a649759b6c59a6d93ad",
       "version_major": 2,
       "version_minor": 0
      },
      "text/plain": [
       "FloatProgress(value=0.0, bar_style='info', description='Progress:', layout=Layout(height='25px', width='50%'),…"
      ]
     },
     "metadata": {},
     "output_type": "display_data"
    }
   ],
   "source": [
    "# Select the required columns from the final fact table\n",
    "fact_atm_trans = fact_atm_trans.select('trans_id', 'atm_id', 'weather_loc_id', 'date_id', 'card_type_id', \n",
    "                                       'atm_status', 'currency', 'service', 'transaction_amount', 'message_code',\n",
    "                                       'message_text', 'rain_3h', 'clouds_all', 'weather_id', 'weather_main',\n",
    "                                       'weather_description')\n",
    "fact_atm_trans = fact_atm_trans.withColumn('trans_id', col('trans_id').cast(LongType()))"
   ]
  },
  {
   "cell_type": "code",
   "execution_count": 47,
   "id": "30fed51d",
   "metadata": {},
   "outputs": [
    {
     "data": {
      "application/vnd.jupyter.widget-view+json": {
       "model_id": "a05cfc32bd1c483bb4ebff0e7179d6ab",
       "version_major": 2,
       "version_minor": 0
      },
      "text/plain": [
       "FloatProgress(value=0.0, bar_style='info', description='Progress:', layout=Layout(height='25px', width='50%'),…"
      ]
     },
     "metadata": {},
     "output_type": "display_data"
    },
    {
     "name": "stdout",
     "output_type": "stream",
     "text": [
      "+--------+------+--------------+-------+------------+----------+--------+----------+------------------+------------+------------+-------+----------+----------+------------+--------------------+\n",
      "|trans_id|atm_id|weather_loc_id|date_id|card_type_id|atm_status|currency|   service|transaction_amount|message_code|message_text|rain_3h|clouds_all|weather_id|weather_main| weather_description|\n",
      "+--------+------+--------------+-------+------------+----------+--------+----------+------------------+------------+------------+-------+----------+----------+------------+--------------------+\n",
      "|       1|    24|           105|      1|           9|    Active|     DKK|Withdrawal|              4062|        null|        null|    0.0|        75|       300|     Drizzle|light intensity d...|\n",
      "|       2|    19|            97|      1|           8|    Active|     DKK|Withdrawal|              5024|        null|        null|  1.275|        92|       500|        Rain|          light rain|\n",
      "|       3|    70|            25|      1|           7|    Active|     DKK|Withdrawal|               887|        null|        null|   0.29|        92|       500|        Rain|          light rain|\n",
      "|       4|    20|            46|      1|          11|  Inactive|     DKK|Withdrawal|              1133|        null|        null|    0.0|        92|       300|     Drizzle|light intensity d...|\n",
      "|       5|    70|            25|      1|           7|    Active|     DKK|Withdrawal|              4849|        null|        null|   0.29|        92|       500|        Rain|          light rain|\n",
      "+--------+------+--------------+-------+------------+----------+--------+----------+------------------+------------+------------+-------+----------+----------+------------+--------------------+\n",
      "only showing top 5 rows"
     ]
    }
   ],
   "source": [
    "# Check first 5 records in fact atm trans\n",
    "fact_atm_trans.show(5)"
   ]
  },
  {
   "cell_type": "code",
   "execution_count": 48,
   "id": "433f00a6",
   "metadata": {},
   "outputs": [
    {
     "data": {
      "application/vnd.jupyter.widget-view+json": {
       "model_id": "5b33064e5f10403c90cea10ff4500eb7",
       "version_major": 2,
       "version_minor": 0
      },
      "text/plain": [
       "FloatProgress(value=0.0, bar_style='info', description='Progress:', layout=Layout(height='25px', width='50%'),…"
      ]
     },
     "metadata": {},
     "output_type": "display_data"
    },
    {
     "name": "stdout",
     "output_type": "stream",
     "text": [
      "root\n",
      " |-- trans_id: long (nullable = false)\n",
      " |-- atm_id: integer (nullable = true)\n",
      " |-- weather_loc_id: integer (nullable = true)\n",
      " |-- date_id: integer (nullable = true)\n",
      " |-- card_type_id: integer (nullable = true)\n",
      " |-- atm_status: string (nullable = true)\n",
      " |-- currency: string (nullable = true)\n",
      " |-- service: string (nullable = true)\n",
      " |-- transaction_amount: integer (nullable = true)\n",
      " |-- message_code: string (nullable = true)\n",
      " |-- message_text: string (nullable = true)\n",
      " |-- rain_3h: double (nullable = true)\n",
      " |-- clouds_all: integer (nullable = true)\n",
      " |-- weather_id: integer (nullable = true)\n",
      " |-- weather_main: string (nullable = true)\n",
      " |-- weather_description: string (nullable = true)"
     ]
    }
   ],
   "source": [
    "# Check fact data structure\n",
    "fact_atm_trans.printSchema()"
   ]
  },
  {
   "cell_type": "code",
   "execution_count": 49,
   "id": "7bd49788",
   "metadata": {},
   "outputs": [
    {
     "data": {
      "application/vnd.jupyter.widget-view+json": {
       "model_id": "401b28303b614ffb90e976496129a295",
       "version_major": 2,
       "version_minor": 0
      },
      "text/plain": [
       "FloatProgress(value=0.0, bar_style='info', description='Progress:', layout=Layout(height='25px', width='50%'),…"
      ]
     },
     "metadata": {},
     "output_type": "display_data"
    },
    {
     "name": "stdout",
     "output_type": "stream",
     "text": [
      "2468572"
     ]
    }
   ],
   "source": [
    "# Check fact table count\n",
    "fact_atm_trans.count()"
   ]
  },
  {
   "cell_type": "markdown",
   "id": "3b6c7da9",
   "metadata": {},
   "source": [
    "\n",
    "Observation:\n",
    "We have successfully created atm transaction fact table data and established primary-foreign keys relationship with dimension tables.\n",
    "We have total of 2468572 records available in the fact dataset"
   ]
  },
  {
   "cell_type": "markdown",
   "id": "0fc21fc0",
   "metadata": {},
   "source": [
    "### 4. Copy all the Dimensions and Fact tables data in S3 bucket"
   ]
  },
  {
   "cell_type": "code",
   "execution_count": 50,
   "id": "3e7f0497",
   "metadata": {},
   "outputs": [
    {
     "data": {
      "application/vnd.jupyter.widget-view+json": {
       "model_id": "67d36c3a63414061be35bcefc1f59223",
       "version_major": 2,
       "version_minor": 0
      },
      "text/plain": [
       "FloatProgress(value=0.0, bar_style='info', description='Progress:', layout=Layout(height='25px', width='50%'),…"
      ]
     },
     "metadata": {},
     "output_type": "display_data"
    }
   ],
   "source": [
    "# Copying data of Location dim to S3 bucket in CSV format\n",
    "dim_location.write.csv('s3://sparketl/dimention/DIM_LOCATION', header=False, mode='overwrite')"
   ]
  },
  {
   "cell_type": "code",
   "execution_count": 51,
   "id": "9749f9c7",
   "metadata": {},
   "outputs": [
    {
     "data": {
      "application/vnd.jupyter.widget-view+json": {
       "model_id": "bfc685b74dfc4d9390d4f829f3c1bddc",
       "version_major": 2,
       "version_minor": 0
      },
      "text/plain": [
       "FloatProgress(value=0.0, bar_style='info', description='Progress:', layout=Layout(height='25px', width='50%'),…"
      ]
     },
     "metadata": {},
     "output_type": "display_data"
    }
   ],
   "source": [
    "# Copying data of Card Type dim to S3 bucket in CSV format\n",
    "dim_card_type.write.csv('s3://sparketl/dimention/DIM_CARD_TYPE', header=False, mode='overwrite')"
   ]
  },
  {
   "cell_type": "code",
   "execution_count": 52,
   "id": "674a6db8",
   "metadata": {},
   "outputs": [
    {
     "data": {
      "application/vnd.jupyter.widget-view+json": {
       "model_id": "aabd1cd8d6db4bc688ca3938d5d5424a",
       "version_major": 2,
       "version_minor": 0
      },
      "text/plain": [
       "FloatProgress(value=0.0, bar_style='info', description='Progress:', layout=Layout(height='25px', width='50%'),…"
      ]
     },
     "metadata": {},
     "output_type": "display_data"
    }
   ],
   "source": [
    "# Copying data of Date dim to S3 bucket in CSV format\n",
    "dim_date.write.csv('s3://sparketl/dimention/DIM_DATE', header=False, mode='overwrite')"
   ]
  },
  {
   "cell_type": "code",
   "execution_count": 53,
   "id": "eb5f4c8b",
   "metadata": {},
   "outputs": [
    {
     "data": {
      "application/vnd.jupyter.widget-view+json": {
       "model_id": "f93c31d0ba2945c295c309b01de4290f",
       "version_major": 2,
       "version_minor": 0
      },
      "text/plain": [
       "FloatProgress(value=0.0, bar_style='info', description='Progress:', layout=Layout(height='25px', width='50%'),…"
      ]
     },
     "metadata": {},
     "output_type": "display_data"
    }
   ],
   "source": [
    "# Copying data of ATM dim to S3 bucket in CSV format\n",
    "dim_atm.write.csv('s3://sparketl/dimention/DIM_ATM', header=False, mode='overwrite')"
   ]
  },
  {
   "cell_type": "code",
   "execution_count": 54,
   "id": "114d7f42",
   "metadata": {},
   "outputs": [
    {
     "data": {
      "application/vnd.jupyter.widget-view+json": {
       "model_id": "67181821856844c39031c4265cd4423b",
       "version_major": 2,
       "version_minor": 0
      },
      "text/plain": [
       "FloatProgress(value=0.0, bar_style='info', description='Progress:', layout=Layout(height='25px', width='50%'),…"
      ]
     },
     "metadata": {},
     "output_type": "display_data"
    }
   ],
   "source": [
    "# Copying data of ATM Transactions fact to S3 bucket in CSV format\n",
    "fact_atm_trans.write.csv('s3://sparketl/dimention/FACT_ATM_TRANS', header=False, mode='overwrite')"
   ]
  },
  {
   "cell_type": "markdown",
   "id": "6e12c859",
   "metadata": {},
   "source": [
    "# CONCLUSION"
   ]
  },
  {
   "cell_type": "markdown",
   "id": "ebb0fe45",
   "metadata": {},
   "source": [
    "We have successfully read the source data from HDFS, performed transformations using Spark and splitted the data into dimensions and facts tables.\n",
    "Later we have copied all the dimensions and fact data into S3 bucket (s3://sparketl/dimention/) which can further be used to load it into Amazon Redshift for Data Analysis.\n"
   ]
  }
 ],
 "metadata": {
  "kernelspec": {
   "display_name": "PySpark",
   "language": "python",
   "name": "pysparkkernel"
  },
  "language_info": {
   "codemirror_mode": {
    "name": "python",
    "version": 3
   },
   "file_extension": ".py",
   "mimetype": "text/x-python",
   "name": "pyspark",
   "pygments_lexer": "python3"
  }
 },
 "nbformat": 4,
 "nbformat_minor": 5
}
